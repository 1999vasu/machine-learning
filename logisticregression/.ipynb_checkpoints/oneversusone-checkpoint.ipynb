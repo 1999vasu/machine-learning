{
 "cells": [
  {
   "cell_type": "code",
   "execution_count": 1,
   "metadata": {},
   "outputs": [],
   "source": [
    "import numpy as np\n",
    "import matplotlib.pyplot as plt\n",
    "import pandas as pd\n",
    "from sklearn.datasets import make_classification\n",
    "from sklearn.model_selection import train_test_split as tst"
   ]
  },
  {
   "cell_type": "code",
   "execution_count": 2,
   "metadata": {},
   "outputs": [],
   "source": [
    "class logistic():\n",
    "    def __init__(self,cl1,cl2):\n",
    "        self.class1 = cl1\n",
    "        self.class2 = cl2\n",
    "        self.theta = None\n",
    "        \n",
    "    def pred(self,theta,x):\n",
    "        hx = self.hypothesis(theta,x)\n",
    "        if hx>=0.5:\n",
    "            return self.class2\n",
    "        else:\n",
    "            return self.class1\n",
    "        \n",
    "    def hypothesis(self,theta,x):\n",
    "        return 1/(1+np.exp(-np.dot(theta,x)))\n",
    "    \n",
    "    def gradient(self,x,y,theta):\n",
    "        grad = np.zeros(x.shape[1])\n",
    "        m = x.shape[0]\n",
    "        for ix in range(m):\n",
    "            hx = self.hypothesis(theta,x[ix])\n",
    "            grad += (y[ix]-hx)*x[ix]\n",
    "        return grad/m\n",
    "    \n",
    "    def gradientascent(self,x,y,lr=0.01):\n",
    "        self.theta = np.zeros(x.shape[1])\n",
    "        for ix in range(500):\n",
    "            self.theta = self.theta + lr*self.gradient(x,y,self.theta)\n",
    "        return self.theta\n",
    "    \n",
    "    def train(self,x_train,y_train,lr=0.01):\n",
    "        self.theta = self.gradientascent(x_train,y_train,lr)"
   ]
  },
  {
   "cell_type": "code",
   "execution_count": 3,
   "metadata": {},
   "outputs": [],
   "source": [
    "ds = pd.read_csv(\"fashion-mnist_test.csv\")"
   ]
  },
  {
   "cell_type": "code",
   "execution_count": 4,
   "metadata": {},
   "outputs": [
    {
     "name": "stdout",
     "output_type": "stream",
     "text": [
      "(10000, 785)\n"
     ]
    }
   ],
   "source": [
    "ds = ds.values\n",
    "print(ds.shape)\n",
    "ds = ds[:10000,:]"
   ]
  },
  {
   "cell_type": "code",
   "execution_count": 5,
   "metadata": {},
   "outputs": [
    {
     "name": "stdout",
     "output_type": "stream",
     "text": [
      "[[0 0 0 ..., 0 0 0]\n",
      " [0 0 0 ..., 0 0 0]\n",
      " [0 0 0 ..., 0 0 0]\n",
      " ..., \n",
      " [0 0 0 ..., 0 0 0]\n",
      " [0 0 0 ..., 0 0 0]\n",
      " [0 0 0 ..., 0 1 0]] [0 1 2 2 3 2 8 6 5 0 3 4 4 6 8 5 6 3 6 4 4 4 2 1 5 7 8 4 4 1 5 7 7 8 1 0 9\n",
      " 8 0 8 2 0 4 6 2 0 3 3 2 3 2 2 9 3 0 9 9 4 6 0 4 5 4 6 1 1 0 9 5 2 7 3 4 6\n",
      " 5 7 1 6 1 4 9 8 1 2 4 8 9 4 1 6 3 4 2 2 2 6 4 7 7 3 9 3 9 0 8 2 3 8 2 7 5\n",
      " 5 3 2 7 5 0 2 7 1 0 5 4 4 7 0 8 5 0 3 1 7 9 4 9 6 4 4 2 4 3 3 3 2 2 6 0 0\n",
      " 1 3 4 3 3 1 9 3 3 3 9 5 6 7 7 3 2 4 0 8 7 2 2 8 9 0 2 4 4 5 7 9 9 1 3 9 1\n",
      " 5 5 6 0 7 4 9 1 6 0 0 0 4 0 9 0 4 2 5 5 8 6 2 1 9 0 4 7 1 9 5 9 0 2 8 5 7\n",
      " 7 3 2 4 5 7 8 1 9 5 6 2 9 7 4 0 9 2 1 5 7 7 0 2 4 5 3 3 8 1 6 2 4 8 6 9 8\n",
      " 3 3 2 4 2 2 9 3 9 2 8 6 8 8 2 7 2 5 5 9 5 8 2 4 8 4 8 3 1 2 2 2 1 8 1 3 3\n",
      " 4 1 7 0]\n",
      "(240, 784) (240,) (60, 784) (60,)\n"
     ]
    }
   ],
   "source": [
    "x = ds[:,1:]\n",
    "y = ds[:,0]\n",
    "print(x,y)\n",
    "x_train,x_test,y_train,y_test = tst(x,y,test_size=0.2)\n",
    "print(x_train.shape,y_train.shape,x_test.shape,y_test.shape)"
   ]
  },
  {
   "cell_type": "code",
   "execution_count": 11,
   "metadata": {},
   "outputs": [
    {
     "name": "stderr",
     "output_type": "stream",
     "text": [
      "/usr/local/lib/python3.6/dist-packages/ipykernel_launcher.py:15: RuntimeWarning: overflow encountered in exp\n",
      "  from ipykernel import kernelapp as app\n"
     ]
    }
   ],
   "source": [
    "llist = []\n",
    "for ix in range(10):\n",
    "    for nx in range(ix+1,10):\n",
    "#         print(ix,nx,y_train)\n",
    "        pp = logistic(ix,nx)\n",
    "        XX,YY = [],[]\n",
    "        for mx in range(y_train.shape[0]):\n",
    "            if(y_train[mx]==ix):\n",
    "                YY.append(0)\n",
    "                XX.append(x_train[mx])\n",
    "            elif(y_train[mx]==nx):\n",
    "                YY.append(1)\n",
    "                XX.append(x_train[mx])\n",
    "        XX = np.array(XX)\n",
    "        YY = np.array(YY)\n",
    "        pp.train(XX[:,:],YY[:])\n",
    "        llist.append(pp)\n",
    "\n",
    "    "
   ]
  },
  {
   "cell_type": "code",
   "execution_count": 12,
   "metadata": {},
   "outputs": [
    {
     "name": "stdout",
     "output_type": "stream",
     "text": [
      "45\n"
     ]
    }
   ],
   "source": [
    "print(len(llist))"
   ]
  },
  {
   "cell_type": "code",
   "execution_count": 13,
   "metadata": {},
   "outputs": [],
   "source": [
    "def prediction(x,llist):\n",
    "    pl = np.zeros(len(llist))\n",
    "    count=0\n",
    "    for ix in llist:\n",
    "        pl[count] = ix.pred(ix.theta,x)\n",
    "        count+=1\n",
    "    idx,val = np.unique(pl,return_counts=True)\n",
    "    ridx = np.argmax(val)\n",
    "#     print(ridx,idx[ridx])\n",
    "    return idx[ridx]"
   ]
  },
  {
   "cell_type": "code",
   "execution_count": 14,
   "metadata": {},
   "outputs": [],
   "source": [
    "def accuracy(x,y,llist):\n",
    "    acc = 0\n",
    "    for ix in range(x.shape[0]):\n",
    "#         print(prediction(x[ix],llist),'\\t',y[ix])\n",
    "        if(prediction(x[ix],llist)==y[ix]):\n",
    "            acc+=1\n",
    "#             print(acc)\n",
    "    return acc/x.shape[0]"
   ]
  },
  {
   "cell_type": "code",
   "execution_count": 16,
   "metadata": {},
   "outputs": [
    {
     "name": "stdout",
     "output_type": "stream",
     "text": [
      "1\n",
      "2\n",
      "3\n",
      "4\n",
      "5\n",
      "6\n",
      "7\n",
      "8\n",
      "9\n",
      "10\n",
      "11\n",
      "12\n",
      "13\n",
      "14\n",
      "15\n",
      "16\n",
      "17\n",
      "18\n",
      "19\n",
      "20\n",
      "21\n",
      "22\n",
      "23\n",
      "24\n",
      "25\n",
      "26\n",
      "27\n",
      "28\n",
      "29\n",
      "30\n",
      "31\n",
      "32\n",
      "33\n",
      "34\n",
      "35\n",
      "36\n",
      "37\n",
      "38\n",
      "39\n",
      "40\n",
      "41\n",
      "42\n",
      "43\n"
     ]
    },
    {
     "name": "stderr",
     "output_type": "stream",
     "text": [
      "/usr/local/lib/python3.6/dist-packages/ipykernel_launcher.py:15: RuntimeWarning: overflow encountered in exp\n",
      "  from ipykernel import kernelapp as app\n"
     ]
    },
    {
     "data": {
      "text/plain": [
       "0.7166666666666667"
      ]
     },
     "execution_count": 16,
     "metadata": {},
     "output_type": "execute_result"
    }
   ],
   "source": [
    "accuracy(x_test,y_test,llist)"
   ]
  },
  {
   "cell_type": "code",
   "execution_count": null,
   "metadata": {},
   "outputs": [],
   "source": []
  }
 ],
 "metadata": {
  "kernelspec": {
   "display_name": "Python 3",
   "language": "python",
   "name": "python3"
  },
  "language_info": {
   "codemirror_mode": {
    "name": "ipython",
    "version": 3
   },
   "file_extension": ".py",
   "mimetype": "text/x-python",
   "name": "python",
   "nbconvert_exporter": "python",
   "pygments_lexer": "ipython3",
   "version": "3.6.5"
  }
 },
 "nbformat": 4,
 "nbformat_minor": 2
}
