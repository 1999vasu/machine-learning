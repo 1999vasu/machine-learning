{
 "cells": [
  {
   "cell_type": "code",
   "execution_count": 1,
   "metadata": {},
   "outputs": [],
   "source": [
    "import numpy as np\n",
    "import matplotlib.pyplot as plt\n",
    "import pandas as pd\n",
    "from sklearn.datasets import make_classification\n",
    "from sklearn.model_selection import train_test_split as tst"
   ]
  },
  {
   "cell_type": "code",
   "execution_count": 2,
   "metadata": {},
   "outputs": [],
   "source": [
    "class logistic():\n",
    "    def __init__(self,cl1,cl2):\n",
    "        self.class1 = cl1\n",
    "        self.class2 = cl2\n",
    "        self.theta = None\n",
    "        \n",
    "    def pred(self,theta,x):\n",
    "        hx = hypothesis(theta,x)\n",
    "        if hx>=0.5:\n",
    "            return cl2\n",
    "        else:\n",
    "            return cl1\n",
    "        \n",
    "    def hypothesis(self,theta,x):\n",
    "        return 1/(1+np.exp(-np.dot(theta,x)))\n",
    "    \n",
    "    def gradient(self,x,y,theta):\n",
    "        grad = np.zeros(x.shape[1])\n",
    "        m = x.shape[0]\n",
    "        for ix in range(m):\n",
    "            hx = self.hypothesis(theta,x[ix])\n",
    "            grad += (y[ix]-hx)*x[ix]\n",
    "        return grad/m\n",
    "    \n",
    "    def gradientascent(self,x,y,lr=0.01):\n",
    "        self.theta = np.zeros(x.shape[1])\n",
    "        for ix in range(500):\n",
    "            self.theta = self.theta + lr*self.gradient(x,y,self.theta)\n",
    "        return self.theta\n",
    "    \n",
    "    def train(self,x_train,y_train,lr=0.01):\n",
    "        self.theta = self.gradientascent(x_train,y_train,lr)"
   ]
  },
  {
   "cell_type": "code",
   "execution_count": 3,
   "metadata": {},
   "outputs": [],
   "source": [
    "ds = pd.read_csv(\"fashion-mnist_test.csv\")"
   ]
  },
  {
   "cell_type": "code",
   "execution_count": 4,
   "metadata": {},
   "outputs": [
    {
     "name": "stdout",
     "output_type": "stream",
     "text": [
      "<class 'pandas.core.frame.DataFrame'>\n"
     ]
    }
   ],
   "source": [
    "print(type(ds))"
   ]
  },
  {
   "cell_type": "code",
   "execution_count": 5,
   "metadata": {},
   "outputs": [
    {
     "name": "stdout",
     "output_type": "stream",
     "text": [
      "Index(['label', 'pixel1', 'pixel2', 'pixel3', 'pixel4', 'pixel5', 'pixel6',\n",
      "       'pixel7', 'pixel8', 'pixel9',\n",
      "       ...\n",
      "       'pixel775', 'pixel776', 'pixel777', 'pixel778', 'pixel779', 'pixel780',\n",
      "       'pixel781', 'pixel782', 'pixel783', 'pixel784'],\n",
      "      dtype='object', length=785)\n"
     ]
    }
   ],
   "source": [
    "print(ds.columns)\n",
    "ds = ds.values"
   ]
  },
  {
   "cell_type": "code",
   "execution_count": 6,
   "metadata": {},
   "outputs": [
    {
     "name": "stdout",
     "output_type": "stream",
     "text": [
      "[[0 0 0 ..., 0 0 0]\n",
      " [1 0 0 ..., 0 0 0]\n",
      " [2 0 0 ..., 0 0 0]\n",
      " ..., \n",
      " [8 0 0 ..., 0 1 0]\n",
      " [8 0 1 ..., 0 0 0]\n",
      " [1 0 0 ..., 0 0 0]]\n",
      "<class 'numpy.ndarray'>\n"
     ]
    }
   ],
   "source": [
    "print(ds)\n",
    "print(type(ds))"
   ]
  },
  {
   "cell_type": "code",
   "execution_count": 7,
   "metadata": {},
   "outputs": [
    {
     "name": "stdout",
     "output_type": "stream",
     "text": [
      "(10000, 785)\n"
     ]
    }
   ],
   "source": [
    "print(ds.shape)"
   ]
  },
  {
   "cell_type": "code",
   "execution_count": 8,
   "metadata": {},
   "outputs": [],
   "source": [
    "ds = ds[:150,:]"
   ]
  },
  {
   "cell_type": "code",
   "execution_count": 9,
   "metadata": {},
   "outputs": [
    {
     "name": "stdout",
     "output_type": "stream",
     "text": [
      "(150, 785)\n"
     ]
    }
   ],
   "source": [
    "print(ds.shape)"
   ]
  },
  {
   "cell_type": "code",
   "execution_count": 10,
   "metadata": {},
   "outputs": [
    {
     "name": "stdout",
     "output_type": "stream",
     "text": [
      "[[0 0 0 ..., 0 0 0]\n",
      " [1 0 0 ..., 0 0 0]\n",
      " [2 0 0 ..., 0 0 0]\n",
      " ..., \n",
      " [0 0 0 ..., 0 0 0]\n",
      " [1 0 0 ..., 0 0 0]\n",
      " [3 0 0 ..., 0 0 0]]\n"
     ]
    }
   ],
   "source": [
    "print(ds)"
   ]
  },
  {
   "cell_type": "code",
   "execution_count": 16,
   "metadata": {},
   "outputs": [
    {
     "name": "stdout",
     "output_type": "stream",
     "text": [
      "[[0 0 0 ..., 0 0 0]\n",
      " [0 0 0 ..., 0 0 0]\n",
      " [0 0 0 ..., 0 0 0]\n",
      " ..., \n",
      " [0 0 0 ..., 0 0 0]\n",
      " [0 0 0 ..., 0 0 0]\n",
      " [0 0 0 ..., 0 0 0]] [0 1 2 2 3 2 8 6 5 0 3 4 4 6 8 5 6 3 6 4 4 4 2 1 5 7 8 4 4 1 5 7 7 8 1 0 9\n",
      " 8 0 8 2 0 4 6 2 0 3 3 2 3 2 2 9 3 0 9 9 4 6 0 4 5 4 6 1 1 0 9 5 2 7 3 4 6\n",
      " 5 7 1 6 1 4 9 8 1 2 4 8 9 4 1 6 3 4 2 2 2 6 4 7 7 3 9 3 9 0 8 2 3 8 2 7 5\n",
      " 5 3 2 7 5 0 2 7 1 0 5 4 4 7 0 8 5 0 3 1 7 9 4 9 6 4 4 2 4 3 3 3 2 2 6 0 0\n",
      " 1 3]\n"
     ]
    }
   ],
   "source": [
    "x = ds[:,1:]\n",
    "y = ds[:,0]\n",
    "print(x,y)\n",
    "x_train,x_test,y_train,y_test = tst(x,y,test_size=0.2)"
   ]
  },
  {
   "cell_type": "code",
   "execution_count": 17,
   "metadata": {},
   "outputs": [
    {
     "name": "stdout",
     "output_type": "stream",
     "text": [
      "(120, 784) (120,) (30, 784) (30,)\n"
     ]
    }
   ],
   "source": [
    "print(x_train.shape,y_train.shape,x_test.shape,y_test.shape)"
   ]
  },
  {
   "cell_type": "code",
   "execution_count": 19,
   "metadata": {},
   "outputs": [
    {
     "name": "stderr",
     "output_type": "stream",
     "text": [
      "/usr/local/lib/python3.6/dist-packages/ipykernel_launcher.py:15: RuntimeWarning: overflow encountered in exp\n",
      "  from ipykernel import kernelapp as app\n"
     ]
    }
   ],
   "source": [
    "llist = []\n",
    "for ix in range(10):\n",
    "#     print(ix,y_train)\n",
    "    pp = logistic(-1,ix)\n",
    "    Y[:] = y_train[:]\n",
    "    for mx in range(y_train.shape[0]):\n",
    "        if(y_train[mx]==ix):\n",
    "            Y[mx]=1\n",
    "        else:\n",
    "            Y[mx]=0\n",
    "#     print(Y)\n",
    "    pp.train(x_train[:,:],Y[:])\n",
    "    llist.append(pp)\n",
    "    "
   ]
  },
  {
   "cell_type": "code",
   "execution_count": 21,
   "metadata": {},
   "outputs": [],
   "source": [
    "# for ix in llist:\n",
    "#     print(ix.theta)"
   ]
  },
  {
   "cell_type": "code",
   "execution_count": 26,
   "metadata": {},
   "outputs": [],
   "source": [
    "def classprediction(llist,x):\n",
    "    tl = np.zeros(len(llist))\n",
    "    for ix in range(tl.shape[0]):\n",
    "        tl[ix] = llist[ix].hypothesis(llist[ix].theta,x)\n",
    "    idx = np.argmax(tl)\n",
    "    return llist[idx].class2"
   ]
  },
  {
   "cell_type": "code",
   "execution_count": 27,
   "metadata": {},
   "outputs": [
    {
     "name": "stdout",
     "output_type": "stream",
     "text": [
      "0.5333333333333333\n"
     ]
    },
    {
     "name": "stderr",
     "output_type": "stream",
     "text": [
      "/usr/local/lib/python3.6/dist-packages/ipykernel_launcher.py:15: RuntimeWarning: overflow encountered in exp\n",
      "  from ipykernel import kernelapp as app\n"
     ]
    }
   ],
   "source": [
    "def accuracy(x,y,llist):\n",
    "    acc=0\n",
    "    for ix in range(y.shape[0]):\n",
    "        cp = classprediction(llist,x[ix])\n",
    "        if(cp==y[ix]):\n",
    "            acc+=1\n",
    "    return acc/x.shape[0]\n",
    "\n",
    "print(accuracy(x_test,y_test,llist))\n",
    "    \n",
    "    "
   ]
  },
  {
   "cell_type": "code",
   "execution_count": null,
   "metadata": {},
   "outputs": [],
   "source": []
  }
 ],
 "metadata": {
  "kernelspec": {
   "display_name": "Python 3",
   "language": "python",
   "name": "python3"
  },
  "language_info": {
   "codemirror_mode": {
    "name": "ipython",
    "version": 3
   },
   "file_extension": ".py",
   "mimetype": "text/x-python",
   "name": "python",
   "nbconvert_exporter": "python",
   "pygments_lexer": "ipython3",
   "version": "3.6.5"
  }
 },
 "nbformat": 4,
 "nbformat_minor": 2
}
