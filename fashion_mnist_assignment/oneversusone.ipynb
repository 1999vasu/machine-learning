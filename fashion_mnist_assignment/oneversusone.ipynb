{
 "cells": [
  {
   "cell_type": "code",
   "execution_count": 1,
   "metadata": {},
   "outputs": [],
   "source": [
    "import numpy as np\n",
    "import matplotlib.pyplot as plt\n",
    "import pandas as pd\n",
    "from sklearn.datasets import make_classification\n",
    "from sklearn.model_selection import train_test_split as tst"
   ]
  },
  {
   "cell_type": "code",
   "execution_count": 2,
   "metadata": {},
   "outputs": [],
   "source": [
    "class logistic():\n",
    "    def __init__(self,cl1,cl2):\n",
    "        self.class1 = cl1\n",
    "        self.class2 = cl2\n",
    "        self.theta = None\n",
    "        \n",
    "    def pred(self,theta,x):\n",
    "        hx = self.hypothesis(theta,x)\n",
    "        if hx>=0.5:\n",
    "            return self.class2\n",
    "        else:\n",
    "            return self.class1\n",
    "        \n",
    "    def hypothesis(self,theta,x):\n",
    "        return 1/(1+np.exp(-np.dot(theta,x)))\n",
    "    \n",
    "    def gradient(self,x,y,theta):\n",
    "        grad = np.zeros(x.shape[1])\n",
    "        m = x.shape[0]\n",
    "        for ix in range(m):\n",
    "            hx = self.hypothesis(theta,x[ix])\n",
    "            grad += (y[ix]-hx)*x[ix]\n",
    "        return grad/m\n",
    "    \n",
    "    def gradientascent(self,x,y,lr=0.01):\n",
    "        self.theta = np.zeros(x.shape[1])\n",
    "        for ix in range(500):\n",
    "            self.theta = self.theta + lr*self.gradient(x,y,self.theta)\n",
    "        return self.theta\n",
    "    \n",
    "    def train(self,x_train,y_train,lr=0.01):\n",
    "        self.theta = self.gradientascent(x_train,y_train,lr)"
   ]
  },
  {
   "cell_type": "code",
   "execution_count": 3,
   "metadata": {},
   "outputs": [],
   "source": [
    "ds = pd.read_csv(\"fashion-mnist_test.csv\")"
   ]
  },
  {
   "cell_type": "code",
   "execution_count": 4,
   "metadata": {},
   "outputs": [
    {
     "name": "stdout",
     "output_type": "stream",
     "text": [
      "(10000, 785)\n"
     ]
    }
   ],
   "source": [
    "ds = ds.values\n",
    "print(ds.shape)\n",
    "ds = ds[:10000,:]"
   ]
  },
  {
   "cell_type": "code",
   "execution_count": 5,
   "metadata": {},
   "outputs": [],
   "source": [
    "x = np.ones(ds.shape)\n",
    "y = np.zeros(ds.shape[0])\n",
    "x[:,1:] = ds[:,1:]\n",
    "y[:] = ds[:,0]\n",
    "# print(np.unique(y))\n",
    "# print(x,y)\n",
    "x_train,x_test,y_train,y_test = tst(x,y,test_size=0.2)"
   ]
  },
  {
   "cell_type": "code",
   "execution_count": 6,
   "metadata": {},
   "outputs": [
    {
     "name": "stdout",
     "output_type": "stream",
     "text": [
      "[ 0.  1.  2.  3.  4.  5.  6.  7.  8.  9.]\n",
      "[ 1.]\n"
     ]
    }
   ],
   "source": [
    "print(np.unique(y))\n",
    "print(np.unique(x[:,0]))"
   ]
  },
  {
   "cell_type": "code",
   "execution_count": 7,
   "metadata": {},
   "outputs": [
    {
     "name": "stdout",
     "output_type": "stream",
     "text": [
      "(8000, 785) (8000,) (2000, 785) (2000,)\n"
     ]
    }
   ],
   "source": [
    "print(x_train.shape,y_train.shape,x_test.shape,y_test.shape)"
   ]
  },
  {
   "cell_type": "code",
   "execution_count": 8,
   "metadata": {},
   "outputs": [
    {
     "name": "stdout",
     "output_type": "stream",
     "text": [
      "0 1 [ 8.  8.  5. ...,  4.  4.  5.]\n"
     ]
    },
    {
     "name": "stderr",
     "output_type": "stream",
     "text": [
      "/usr/local/lib/python3.6/dist-packages/ipykernel_launcher.py:15: RuntimeWarning: overflow encountered in exp\n",
      "  from ipykernel import kernelapp as app\n"
     ]
    },
    {
     "name": "stdout",
     "output_type": "stream",
     "text": [
      "0 2 [ 8.  8.  5. ...,  4.  4.  5.]\n",
      "0 3 [ 8.  8.  5. ...,  4.  4.  5.]\n",
      "0 4 [ 8.  8.  5. ...,  4.  4.  5.]\n",
      "0 5 [ 8.  8.  5. ...,  4.  4.  5.]\n",
      "0 6 [ 8.  8.  5. ...,  4.  4.  5.]\n",
      "0 7 [ 8.  8.  5. ...,  4.  4.  5.]\n",
      "0 8 [ 8.  8.  5. ...,  4.  4.  5.]\n",
      "0 9 [ 8.  8.  5. ...,  4.  4.  5.]\n",
      "1 2 [ 8.  8.  5. ...,  4.  4.  5.]\n",
      "1 3 [ 8.  8.  5. ...,  4.  4.  5.]\n",
      "1 4 [ 8.  8.  5. ...,  4.  4.  5.]\n",
      "1 5 [ 8.  8.  5. ...,  4.  4.  5.]\n",
      "1 6 [ 8.  8.  5. ...,  4.  4.  5.]\n",
      "1 7 [ 8.  8.  5. ...,  4.  4.  5.]\n",
      "1 8 [ 8.  8.  5. ...,  4.  4.  5.]\n",
      "1 9 [ 8.  8.  5. ...,  4.  4.  5.]\n",
      "2 3 [ 8.  8.  5. ...,  4.  4.  5.]\n",
      "2 4 [ 8.  8.  5. ...,  4.  4.  5.]\n",
      "2 5 [ 8.  8.  5. ...,  4.  4.  5.]\n",
      "2 6 [ 8.  8.  5. ...,  4.  4.  5.]\n",
      "2 7 [ 8.  8.  5. ...,  4.  4.  5.]\n",
      "2 8 [ 8.  8.  5. ...,  4.  4.  5.]\n",
      "2 9 [ 8.  8.  5. ...,  4.  4.  5.]\n",
      "3 4 [ 8.  8.  5. ...,  4.  4.  5.]\n",
      "3 5 [ 8.  8.  5. ...,  4.  4.  5.]\n",
      "3 6 [ 8.  8.  5. ...,  4.  4.  5.]\n",
      "3 7 [ 8.  8.  5. ...,  4.  4.  5.]\n",
      "3 8 [ 8.  8.  5. ...,  4.  4.  5.]\n",
      "3 9 [ 8.  8.  5. ...,  4.  4.  5.]\n",
      "4 5 [ 8.  8.  5. ...,  4.  4.  5.]\n",
      "4 6 [ 8.  8.  5. ...,  4.  4.  5.]\n",
      "4 7 [ 8.  8.  5. ...,  4.  4.  5.]\n",
      "4 8 [ 8.  8.  5. ...,  4.  4.  5.]\n",
      "4 9 [ 8.  8.  5. ...,  4.  4.  5.]\n",
      "5 6 [ 8.  8.  5. ...,  4.  4.  5.]\n",
      "5 7 [ 8.  8.  5. ...,  4.  4.  5.]\n",
      "5 8 [ 8.  8.  5. ...,  4.  4.  5.]\n",
      "5 9 [ 8.  8.  5. ...,  4.  4.  5.]\n",
      "6 7 [ 8.  8.  5. ...,  4.  4.  5.]\n",
      "6 8 [ 8.  8.  5. ...,  4.  4.  5.]\n",
      "6 9 [ 8.  8.  5. ...,  4.  4.  5.]\n",
      "7 8 [ 8.  8.  5. ...,  4.  4.  5.]\n",
      "7 9 [ 8.  8.  5. ...,  4.  4.  5.]\n",
      "8 9 [ 8.  8.  5. ...,  4.  4.  5.]\n"
     ]
    }
   ],
   "source": [
    "llist = []\n",
    "for ix in range(10):\n",
    "    for nx in range(ix+1,10):\n",
    "        print(ix,nx,y_train)\n",
    "        pp = logistic(ix,nx)\n",
    "        XX,YY = [],[]\n",
    "        for mx in range(y_train.shape[0]):\n",
    "            if(y_train[mx]==ix):\n",
    "                YY.append(0)\n",
    "                XX.append(x_train[mx])\n",
    "            elif(y_train[mx]==nx):\n",
    "                YY.append(1)\n",
    "                XX.append(x_train[mx])\n",
    "        XX = np.array(XX)\n",
    "        YY = np.array(YY)\n",
    "        pp.train(XX[:,:],YY[:])\n",
    "        llist.append(pp)\n",
    "#     print(ix,nx)\n",
    "\n",
    "    "
   ]
  },
  {
   "cell_type": "code",
   "execution_count": 9,
   "metadata": {},
   "outputs": [
    {
     "name": "stdout",
     "output_type": "stream",
     "text": [
      "45\n"
     ]
    }
   ],
   "source": [
    "print(len(llist))"
   ]
  },
  {
   "cell_type": "code",
   "execution_count": 10,
   "metadata": {},
   "outputs": [],
   "source": [
    "def prediction(x,llist):\n",
    "    pl = np.zeros(len(llist))\n",
    "    count=0\n",
    "    for ix in llist:\n",
    "        pl[count] = ix.pred(ix.theta,x)\n",
    "        count+=1\n",
    "    idx,val = np.unique(pl,return_counts=True)\n",
    "    ridx = np.argmax(val)\n",
    "#     print(ridx,idx[ridx])\n",
    "    return idx[ridx]"
   ]
  },
  {
   "cell_type": "code",
   "execution_count": 11,
   "metadata": {},
   "outputs": [],
   "source": [
    "def accuracy(x,y,llist):\n",
    "    acc = 0\n",
    "    for ix in range(x.shape[0]):\n",
    "#         print(prediction(x[ix],llist),'\\t',y[ix])\n",
    "        if(prediction(x[ix],llist)==y[ix]):\n",
    "            acc+=1\n",
    "#             print(acc)\n",
    "    return acc/x.shape[0]"
   ]
  },
  {
   "cell_type": "code",
   "execution_count": 12,
   "metadata": {},
   "outputs": [
    {
     "name": "stderr",
     "output_type": "stream",
     "text": [
      "/usr/local/lib/python3.6/dist-packages/ipykernel_launcher.py:15: RuntimeWarning: overflow encountered in exp\n",
      "  from ipykernel import kernelapp as app\n"
     ]
    },
    {
     "data": {
      "text/plain": [
       "0.803"
      ]
     },
     "execution_count": 12,
     "metadata": {},
     "output_type": "execute_result"
    }
   ],
   "source": [
    "accuracy(x_test,y_test,llist)"
   ]
  },
  {
   "cell_type": "markdown",
   "metadata": {},
   "source": [
    "# sklearn one versus one"
   ]
  },
  {
   "cell_type": "code",
   "execution_count": 13,
   "metadata": {},
   "outputs": [],
   "source": [
    "from sklearn.linear_model import LogisticRegression"
   ]
  },
  {
   "cell_type": "code",
   "execution_count": 14,
   "metadata": {},
   "outputs": [],
   "source": [
    " clf = LogisticRegression(random_state=0, solver='lbfgs',multi_class='multinomial').fit(x_train, y_train)"
   ]
  },
  {
   "cell_type": "code",
   "execution_count": 15,
   "metadata": {},
   "outputs": [
    {
     "name": "stdout",
     "output_type": "stream",
     "text": [
      "0.821\n"
     ]
    }
   ],
   "source": [
    "print(clf.score(x_test,y_test))"
   ]
  },
  {
   "cell_type": "markdown",
   "metadata": {},
   "source": [
    "# KNN"
   ]
  },
  {
   "cell_type": "code",
   "execution_count": 16,
   "metadata": {},
   "outputs": [
    {
     "data": {
      "text/plain": [
       "KNeighborsClassifier(algorithm='auto', leaf_size=30, metric='minkowski',\n",
       "           metric_params=None, n_jobs=1, n_neighbors=11, p=2,\n",
       "           weights='uniform')"
      ]
     },
     "execution_count": 16,
     "metadata": {},
     "output_type": "execute_result"
    }
   ],
   "source": [
    "from sklearn.neighbors import KNeighborsClassifier\n",
    "neigh = KNeighborsClassifier(n_neighbors=11)\n",
    "neigh.fit(x_train, y_train) "
   ]
  },
  {
   "cell_type": "code",
   "execution_count": 17,
   "metadata": {},
   "outputs": [
    {
     "data": {
      "text/plain": [
       "0.8105"
      ]
     },
     "execution_count": 17,
     "metadata": {},
     "output_type": "execute_result"
    }
   ],
   "source": [
    "neigh.score(x_test,y_test)"
   ]
  },
  {
   "cell_type": "code",
   "execution_count": null,
   "metadata": {},
   "outputs": [],
   "source": []
  }
 ],
 "metadata": {
  "kernelspec": {
   "display_name": "Python 3",
   "language": "python",
   "name": "python3"
  },
  "language_info": {
   "codemirror_mode": {
    "name": "ipython",
    "version": 3
   },
   "file_extension": ".py",
   "mimetype": "text/x-python",
   "name": "python",
   "nbconvert_exporter": "python",
   "pygments_lexer": "ipython3",
   "version": "3.6.5"
  }
 },
 "nbformat": 4,
 "nbformat_minor": 2
}
