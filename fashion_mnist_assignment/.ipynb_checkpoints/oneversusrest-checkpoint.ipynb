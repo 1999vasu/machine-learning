{
 "cells": [
  {
   "cell_type": "code",
   "execution_count": 1,
   "metadata": {},
   "outputs": [],
   "source": [
    "import numpy as np\n",
    "import matplotlib.pyplot as plt\n",
    "import pandas as pd\n",
    "from sklearn.datasets import make_classification\n",
    "from sklearn.model_selection import train_test_split as tst"
   ]
  },
  {
   "cell_type": "code",
   "execution_count": 2,
   "metadata": {},
   "outputs": [],
   "source": [
    "class logistic():\n",
    "    def __init__(self,cl1,cl2):\n",
    "        self.class1 = cl1\n",
    "        self.class2 = cl2\n",
    "        self.theta = None\n",
    "        \n",
    "    def pred(self,theta,x):\n",
    "        hx = self.hypothesis(theta,x)\n",
    "        if hx>=0.5:\n",
    "            return self.cl2\n",
    "        else:\n",
    "            return self.cl1\n",
    "        \n",
    "    def hypothesis(self,theta,x):\n",
    "        return 1/(1+np.exp(-np.dot(theta,x)))\n",
    "    \n",
    "    def gradient(self,x,y,theta):\n",
    "        grad = np.zeros(x.shape[1])\n",
    "        m = x.shape[0]\n",
    "        for ix in range(m):\n",
    "            hx = self.hypothesis(theta,x[ix])\n",
    "            grad += (y[ix]-hx)*x[ix]\n",
    "        return grad/m\n",
    "    \n",
    "    def gradientascent(self,x,y,lr=0.01):\n",
    "        self.theta = np.zeros(x.shape[1])\n",
    "        for ix in range(500):\n",
    "            self.theta = self.theta + lr*self.gradient(x,y,self.theta)\n",
    "        return self.theta\n",
    "    \n",
    "    def train(self,x_train,y_train,lr=0.01):\n",
    "        self.theta = self.gradientascent(x_train,y_train,lr)"
   ]
  },
  {
   "cell_type": "code",
   "execution_count": 3,
   "metadata": {},
   "outputs": [],
   "source": [
    "ds = pd.read_csv(\"fashion-mnist_test.csv\")"
   ]
  },
  {
   "cell_type": "code",
   "execution_count": 4,
   "metadata": {},
   "outputs": [
    {
     "name": "stdout",
     "output_type": "stream",
     "text": [
      "<class 'pandas.core.frame.DataFrame'>\n"
     ]
    }
   ],
   "source": [
    "print(type(ds))"
   ]
  },
  {
   "cell_type": "code",
   "execution_count": 5,
   "metadata": {},
   "outputs": [
    {
     "name": "stdout",
     "output_type": "stream",
     "text": [
      "Index(['label', 'pixel1', 'pixel2', 'pixel3', 'pixel4', 'pixel5', 'pixel6',\n",
      "       'pixel7', 'pixel8', 'pixel9',\n",
      "       ...\n",
      "       'pixel775', 'pixel776', 'pixel777', 'pixel778', 'pixel779', 'pixel780',\n",
      "       'pixel781', 'pixel782', 'pixel783', 'pixel784'],\n",
      "      dtype='object', length=785)\n"
     ]
    }
   ],
   "source": [
    "print(ds.columns)\n",
    "ds = ds.values"
   ]
  },
  {
   "cell_type": "code",
   "execution_count": 6,
   "metadata": {},
   "outputs": [
    {
     "name": "stdout",
     "output_type": "stream",
     "text": [
      "[[0 0 0 ..., 0 0 0]\n",
      " [1 0 0 ..., 0 0 0]\n",
      " [2 0 0 ..., 0 0 0]\n",
      " ..., \n",
      " [8 0 0 ..., 0 1 0]\n",
      " [8 0 1 ..., 0 0 0]\n",
      " [1 0 0 ..., 0 0 0]]\n",
      "<class 'numpy.ndarray'>\n"
     ]
    }
   ],
   "source": [
    "print(ds)\n",
    "print(type(ds))"
   ]
  },
  {
   "cell_type": "code",
   "execution_count": 7,
   "metadata": {},
   "outputs": [
    {
     "name": "stdout",
     "output_type": "stream",
     "text": [
      "(10000, 785)\n"
     ]
    }
   ],
   "source": [
    "print(ds.shape)"
   ]
  },
  {
   "cell_type": "code",
   "execution_count": 8,
   "metadata": {},
   "outputs": [],
   "source": [
    "ds = ds[:300,:]"
   ]
  },
  {
   "cell_type": "code",
   "execution_count": 9,
   "metadata": {},
   "outputs": [
    {
     "name": "stdout",
     "output_type": "stream",
     "text": [
      "(300, 785)\n"
     ]
    }
   ],
   "source": [
    "print(ds.shape)"
   ]
  },
  {
   "cell_type": "code",
   "execution_count": 10,
   "metadata": {},
   "outputs": [
    {
     "name": "stdout",
     "output_type": "stream",
     "text": [
      "[[0 0 0 ..., 0 0 0]\n",
      " [1 0 0 ..., 0 0 0]\n",
      " [2 0 0 ..., 0 0 0]\n",
      " ..., \n",
      " [1 0 0 ..., 0 0 0]\n",
      " [7 0 0 ..., 0 0 0]\n",
      " [0 0 0 ..., 0 1 0]]\n"
     ]
    }
   ],
   "source": [
    "print(ds)"
   ]
  },
  {
   "cell_type": "code",
   "execution_count": 11,
   "metadata": {},
   "outputs": [
    {
     "name": "stdout",
     "output_type": "stream",
     "text": [
      "[[0 0 0 ..., 0 0 0]\n",
      " [0 0 0 ..., 0 0 0]\n",
      " [0 0 0 ..., 0 0 0]\n",
      " ..., \n",
      " [0 0 0 ..., 0 0 0]\n",
      " [0 0 0 ..., 0 0 0]\n",
      " [0 0 0 ..., 0 1 0]] [0 1 2 2 3 2 8 6 5 0 3 4 4 6 8 5 6 3 6 4 4 4 2 1 5 7 8 4 4 1 5 7 7 8 1 0 9\n",
      " 8 0 8 2 0 4 6 2 0 3 3 2 3 2 2 9 3 0 9 9 4 6 0 4 5 4 6 1 1 0 9 5 2 7 3 4 6\n",
      " 5 7 1 6 1 4 9 8 1 2 4 8 9 4 1 6 3 4 2 2 2 6 4 7 7 3 9 3 9 0 8 2 3 8 2 7 5\n",
      " 5 3 2 7 5 0 2 7 1 0 5 4 4 7 0 8 5 0 3 1 7 9 4 9 6 4 4 2 4 3 3 3 2 2 6 0 0\n",
      " 1 3 4 3 3 1 9 3 3 3 9 5 6 7 7 3 2 4 0 8 7 2 2 8 9 0 2 4 4 5 7 9 9 1 3 9 1\n",
      " 5 5 6 0 7 4 9 1 6 0 0 0 4 0 9 0 4 2 5 5 8 6 2 1 9 0 4 7 1 9 5 9 0 2 8 5 7\n",
      " 7 3 2 4 5 7 8 1 9 5 6 2 9 7 4 0 9 2 1 5 7 7 0 2 4 5 3 3 8 1 6 2 4 8 6 9 8\n",
      " 3 3 2 4 2 2 9 3 9 2 8 6 8 8 2 7 2 5 5 9 5 8 2 4 8 4 8 3 1 2 2 2 1 8 1 3 3\n",
      " 4 1 7 0]\n"
     ]
    }
   ],
   "source": [
    "x = ds[:,1:]\n",
    "y = ds[:,0]\n",
    "# print(x,y)\n",
    "x_train,x_test,y_train,y_test = tst(x,y,test_size=0.2)"
   ]
  },
  {
   "cell_type": "code",
   "execution_count": 12,
   "metadata": {},
   "outputs": [
    {
     "name": "stdout",
     "output_type": "stream",
     "text": [
      "(240, 784) (240,) (60, 784) (60,)\n"
     ]
    }
   ],
   "source": [
    "print(x_train.shape,y_train.shape,x_test.shape,y_test.shape)"
   ]
  },
  {
   "cell_type": "code",
   "execution_count": 20,
   "metadata": {},
   "outputs": [
    {
     "name": "stdout",
     "output_type": "stream",
     "text": [
      "0 [4 2 7 1 9 7 8 1 4 9 1 4 4 1 3 5 5 0 2 7 2 8 0 1 6 4 4 8 0 3 5 5 4 0 9 5 4\n",
      " 4 4 6 3 9 7 2 0 5 4 7 2 3 8 3 4 1 1 9 6 2 4 8 8 1 2 9 9 6 0 2 5 0 4 9 0 8\n",
      " 5 5 2 0 7 9 5 3 4 0 0 2 8 2 3 1 4 8 7 9 7 3 5 4 1 7 3 6 9 5 4 3 0 1 2 2 2\n",
      " 3 5 7 8 4 2 2 8 5 4 2 9 4 7 6 0 9 9 8 9 3 8 0 5 6 8 5 5 8 6 2 7 6 0 2 9 4\n",
      " 0 6 0 7 3 2 3 3 4 9 4 3 9 4 3 7 1 1 2 2 2 2 3 5 8 1 7 3 4 8 1 7 2 0 2 9 7\n",
      " 9 5 2 8 2 9 1 8 9 3 4 3 1 3 9 9 0 8 8 0 1 4 2 3 1 6 0 5 3 8 2 3 1 2 4 6 6\n",
      " 7 7 6 5 4 7 7 6 8 9 2 2 5 4 0 2 9 0]\n"
     ]
    },
    {
     "name": "stderr",
     "output_type": "stream",
     "text": [
      "/usr/local/lib/python3.6/dist-packages/ipykernel_launcher.py:15: RuntimeWarning: overflow encountered in exp\n",
      "  from ipykernel import kernelapp as app\n"
     ]
    },
    {
     "name": "stdout",
     "output_type": "stream",
     "text": [
      "1 [4 2 7 1 9 7 8 1 4 9 1 4 4 1 3 5 5 0 2 7 2 8 0 1 6 4 4 8 0 3 5 5 4 0 9 5 4\n",
      " 4 4 6 3 9 7 2 0 5 4 7 2 3 8 3 4 1 1 9 6 2 4 8 8 1 2 9 9 6 0 2 5 0 4 9 0 8\n",
      " 5 5 2 0 7 9 5 3 4 0 0 2 8 2 3 1 4 8 7 9 7 3 5 4 1 7 3 6 9 5 4 3 0 1 2 2 2\n",
      " 3 5 7 8 4 2 2 8 5 4 2 9 4 7 6 0 9 9 8 9 3 8 0 5 6 8 5 5 8 6 2 7 6 0 2 9 4\n",
      " 0 6 0 7 3 2 3 3 4 9 4 3 9 4 3 7 1 1 2 2 2 2 3 5 8 1 7 3 4 8 1 7 2 0 2 9 7\n",
      " 9 5 2 8 2 9 1 8 9 3 4 3 1 3 9 9 0 8 8 0 1 4 2 3 1 6 0 5 3 8 2 3 1 2 4 6 6\n",
      " 7 7 6 5 4 7 7 6 8 9 2 2 5 4 0 2 9 0]\n",
      "2 [4 2 7 1 9 7 8 1 4 9 1 4 4 1 3 5 5 0 2 7 2 8 0 1 6 4 4 8 0 3 5 5 4 0 9 5 4\n",
      " 4 4 6 3 9 7 2 0 5 4 7 2 3 8 3 4 1 1 9 6 2 4 8 8 1 2 9 9 6 0 2 5 0 4 9 0 8\n",
      " 5 5 2 0 7 9 5 3 4 0 0 2 8 2 3 1 4 8 7 9 7 3 5 4 1 7 3 6 9 5 4 3 0 1 2 2 2\n",
      " 3 5 7 8 4 2 2 8 5 4 2 9 4 7 6 0 9 9 8 9 3 8 0 5 6 8 5 5 8 6 2 7 6 0 2 9 4\n",
      " 0 6 0 7 3 2 3 3 4 9 4 3 9 4 3 7 1 1 2 2 2 2 3 5 8 1 7 3 4 8 1 7 2 0 2 9 7\n",
      " 9 5 2 8 2 9 1 8 9 3 4 3 1 3 9 9 0 8 8 0 1 4 2 3 1 6 0 5 3 8 2 3 1 2 4 6 6\n",
      " 7 7 6 5 4 7 7 6 8 9 2 2 5 4 0 2 9 0]\n",
      "3 [4 2 7 1 9 7 8 1 4 9 1 4 4 1 3 5 5 0 2 7 2 8 0 1 6 4 4 8 0 3 5 5 4 0 9 5 4\n",
      " 4 4 6 3 9 7 2 0 5 4 7 2 3 8 3 4 1 1 9 6 2 4 8 8 1 2 9 9 6 0 2 5 0 4 9 0 8\n",
      " 5 5 2 0 7 9 5 3 4 0 0 2 8 2 3 1 4 8 7 9 7 3 5 4 1 7 3 6 9 5 4 3 0 1 2 2 2\n",
      " 3 5 7 8 4 2 2 8 5 4 2 9 4 7 6 0 9 9 8 9 3 8 0 5 6 8 5 5 8 6 2 7 6 0 2 9 4\n",
      " 0 6 0 7 3 2 3 3 4 9 4 3 9 4 3 7 1 1 2 2 2 2 3 5 8 1 7 3 4 8 1 7 2 0 2 9 7\n",
      " 9 5 2 8 2 9 1 8 9 3 4 3 1 3 9 9 0 8 8 0 1 4 2 3 1 6 0 5 3 8 2 3 1 2 4 6 6\n",
      " 7 7 6 5 4 7 7 6 8 9 2 2 5 4 0 2 9 0]\n",
      "4 [4 2 7 1 9 7 8 1 4 9 1 4 4 1 3 5 5 0 2 7 2 8 0 1 6 4 4 8 0 3 5 5 4 0 9 5 4\n",
      " 4 4 6 3 9 7 2 0 5 4 7 2 3 8 3 4 1 1 9 6 2 4 8 8 1 2 9 9 6 0 2 5 0 4 9 0 8\n",
      " 5 5 2 0 7 9 5 3 4 0 0 2 8 2 3 1 4 8 7 9 7 3 5 4 1 7 3 6 9 5 4 3 0 1 2 2 2\n",
      " 3 5 7 8 4 2 2 8 5 4 2 9 4 7 6 0 9 9 8 9 3 8 0 5 6 8 5 5 8 6 2 7 6 0 2 9 4\n",
      " 0 6 0 7 3 2 3 3 4 9 4 3 9 4 3 7 1 1 2 2 2 2 3 5 8 1 7 3 4 8 1 7 2 0 2 9 7\n",
      " 9 5 2 8 2 9 1 8 9 3 4 3 1 3 9 9 0 8 8 0 1 4 2 3 1 6 0 5 3 8 2 3 1 2 4 6 6\n",
      " 7 7 6 5 4 7 7 6 8 9 2 2 5 4 0 2 9 0]\n",
      "5 [4 2 7 1 9 7 8 1 4 9 1 4 4 1 3 5 5 0 2 7 2 8 0 1 6 4 4 8 0 3 5 5 4 0 9 5 4\n",
      " 4 4 6 3 9 7 2 0 5 4 7 2 3 8 3 4 1 1 9 6 2 4 8 8 1 2 9 9 6 0 2 5 0 4 9 0 8\n",
      " 5 5 2 0 7 9 5 3 4 0 0 2 8 2 3 1 4 8 7 9 7 3 5 4 1 7 3 6 9 5 4 3 0 1 2 2 2\n",
      " 3 5 7 8 4 2 2 8 5 4 2 9 4 7 6 0 9 9 8 9 3 8 0 5 6 8 5 5 8 6 2 7 6 0 2 9 4\n",
      " 0 6 0 7 3 2 3 3 4 9 4 3 9 4 3 7 1 1 2 2 2 2 3 5 8 1 7 3 4 8 1 7 2 0 2 9 7\n",
      " 9 5 2 8 2 9 1 8 9 3 4 3 1 3 9 9 0 8 8 0 1 4 2 3 1 6 0 5 3 8 2 3 1 2 4 6 6\n",
      " 7 7 6 5 4 7 7 6 8 9 2 2 5 4 0 2 9 0]\n",
      "6 [4 2 7 1 9 7 8 1 4 9 1 4 4 1 3 5 5 0 2 7 2 8 0 1 6 4 4 8 0 3 5 5 4 0 9 5 4\n",
      " 4 4 6 3 9 7 2 0 5 4 7 2 3 8 3 4 1 1 9 6 2 4 8 8 1 2 9 9 6 0 2 5 0 4 9 0 8\n",
      " 5 5 2 0 7 9 5 3 4 0 0 2 8 2 3 1 4 8 7 9 7 3 5 4 1 7 3 6 9 5 4 3 0 1 2 2 2\n",
      " 3 5 7 8 4 2 2 8 5 4 2 9 4 7 6 0 9 9 8 9 3 8 0 5 6 8 5 5 8 6 2 7 6 0 2 9 4\n",
      " 0 6 0 7 3 2 3 3 4 9 4 3 9 4 3 7 1 1 2 2 2 2 3 5 8 1 7 3 4 8 1 7 2 0 2 9 7\n",
      " 9 5 2 8 2 9 1 8 9 3 4 3 1 3 9 9 0 8 8 0 1 4 2 3 1 6 0 5 3 8 2 3 1 2 4 6 6\n",
      " 7 7 6 5 4 7 7 6 8 9 2 2 5 4 0 2 9 0]\n",
      "7 [4 2 7 1 9 7 8 1 4 9 1 4 4 1 3 5 5 0 2 7 2 8 0 1 6 4 4 8 0 3 5 5 4 0 9 5 4\n",
      " 4 4 6 3 9 7 2 0 5 4 7 2 3 8 3 4 1 1 9 6 2 4 8 8 1 2 9 9 6 0 2 5 0 4 9 0 8\n",
      " 5 5 2 0 7 9 5 3 4 0 0 2 8 2 3 1 4 8 7 9 7 3 5 4 1 7 3 6 9 5 4 3 0 1 2 2 2\n",
      " 3 5 7 8 4 2 2 8 5 4 2 9 4 7 6 0 9 9 8 9 3 8 0 5 6 8 5 5 8 6 2 7 6 0 2 9 4\n",
      " 0 6 0 7 3 2 3 3 4 9 4 3 9 4 3 7 1 1 2 2 2 2 3 5 8 1 7 3 4 8 1 7 2 0 2 9 7\n",
      " 9 5 2 8 2 9 1 8 9 3 4 3 1 3 9 9 0 8 8 0 1 4 2 3 1 6 0 5 3 8 2 3 1 2 4 6 6\n",
      " 7 7 6 5 4 7 7 6 8 9 2 2 5 4 0 2 9 0]\n",
      "8 [4 2 7 1 9 7 8 1 4 9 1 4 4 1 3 5 5 0 2 7 2 8 0 1 6 4 4 8 0 3 5 5 4 0 9 5 4\n",
      " 4 4 6 3 9 7 2 0 5 4 7 2 3 8 3 4 1 1 9 6 2 4 8 8 1 2 9 9 6 0 2 5 0 4 9 0 8\n",
      " 5 5 2 0 7 9 5 3 4 0 0 2 8 2 3 1 4 8 7 9 7 3 5 4 1 7 3 6 9 5 4 3 0 1 2 2 2\n",
      " 3 5 7 8 4 2 2 8 5 4 2 9 4 7 6 0 9 9 8 9 3 8 0 5 6 8 5 5 8 6 2 7 6 0 2 9 4\n",
      " 0 6 0 7 3 2 3 3 4 9 4 3 9 4 3 7 1 1 2 2 2 2 3 5 8 1 7 3 4 8 1 7 2 0 2 9 7\n",
      " 9 5 2 8 2 9 1 8 9 3 4 3 1 3 9 9 0 8 8 0 1 4 2 3 1 6 0 5 3 8 2 3 1 2 4 6 6\n",
      " 7 7 6 5 4 7 7 6 8 9 2 2 5 4 0 2 9 0]\n",
      "9 [4 2 7 1 9 7 8 1 4 9 1 4 4 1 3 5 5 0 2 7 2 8 0 1 6 4 4 8 0 3 5 5 4 0 9 5 4\n",
      " 4 4 6 3 9 7 2 0 5 4 7 2 3 8 3 4 1 1 9 6 2 4 8 8 1 2 9 9 6 0 2 5 0 4 9 0 8\n",
      " 5 5 2 0 7 9 5 3 4 0 0 2 8 2 3 1 4 8 7 9 7 3 5 4 1 7 3 6 9 5 4 3 0 1 2 2 2\n",
      " 3 5 7 8 4 2 2 8 5 4 2 9 4 7 6 0 9 9 8 9 3 8 0 5 6 8 5 5 8 6 2 7 6 0 2 9 4\n",
      " 0 6 0 7 3 2 3 3 4 9 4 3 9 4 3 7 1 1 2 2 2 2 3 5 8 1 7 3 4 8 1 7 2 0 2 9 7\n",
      " 9 5 2 8 2 9 1 8 9 3 4 3 1 3 9 9 0 8 8 0 1 4 2 3 1 6 0 5 3 8 2 3 1 2 4 6 6\n",
      " 7 7 6 5 4 7 7 6 8 9 2 2 5 4 0 2 9 0]\n"
     ]
    }
   ],
   "source": [
    "llist = []\n",
    "for ix in range(10):\n",
    "    print(ix,y_train)\n",
    "    pp = logistic(-1,ix)\n",
    "    Y = np.zeros(y_train.shape[0])\n",
    "    Y[:] = y_train[:]\n",
    "    for mx in range(y_train.shape[0]):\n",
    "        if(y_train[mx]==ix):\n",
    "            Y[mx]=1\n",
    "        else:\n",
    "            Y[mx]=0\n",
    "#     print(Y)\n",
    "    pp.train(x_train[:,:],Y[:])\n",
    "    llist.append(pp)\n",
    "    "
   ]
  },
  {
   "cell_type": "code",
   "execution_count": 14,
   "metadata": {},
   "outputs": [],
   "source": [
    "# for ix in llist:\n",
    "#     print(ix.theta)"
   ]
  },
  {
   "cell_type": "code",
   "execution_count": 15,
   "metadata": {},
   "outputs": [],
   "source": [
    "def classprediction(llist,x):\n",
    "    tl = np.zeros(len(llist))\n",
    "    for ix in range(tl.shape[0]):\n",
    "        tl[ix] = llist[ix].hypothesis(llist[ix].theta,x)\n",
    "    idx = np.argmax(tl)\n",
    "    return llist[idx].class2"
   ]
  },
  {
   "cell_type": "code",
   "execution_count": 16,
   "metadata": {},
   "outputs": [
    {
     "name": "stdout",
     "output_type": "stream",
     "text": [
      "0.6\n"
     ]
    },
    {
     "name": "stderr",
     "output_type": "stream",
     "text": [
      "/usr/local/lib/python3.6/dist-packages/ipykernel_launcher.py:15: RuntimeWarning: overflow encountered in exp\n",
      "  from ipykernel import kernelapp as app\n"
     ]
    }
   ],
   "source": [
    "def accuracy(x,y,llist):\n",
    "    acc=0\n",
    "\n",
    "    for ix in range(y.shape[0]):\n",
    "        cp = classprediction(llist,x[ix])\n",
    "        if(cp==y[ix]):\n",
    "            acc+=1\n",
    "    return acc/x.shape[0]\n",
    "\n",
    "print(accuracy(x_test,y_test,llist))\n",
    "    \n",
    "    "
   ]
  },
  {
   "cell_type": "code",
   "execution_count": 19,
   "metadata": {},
   "outputs": [
    {
     "name": "stdout",
     "output_type": "stream",
     "text": [
      "0.00254164907674\n",
      "-8.33333333333e-05\n",
      "0.000666371262667\n",
      "-8.33333333333e-05\n",
      "-0.0048885909199\n",
      "-8.33333333333e-05\n",
      "0.000708333333333\n",
      "-8.33333333333e-05\n",
      "-0.00233767162062\n",
      "-8.33333333333e-05\n"
     ]
    }
   ],
   "source": [
    "for ix in llist:\n",
    "    print(ix.theta[2])"
   ]
  },
  {
   "cell_type": "code",
   "execution_count": null,
   "metadata": {},
   "outputs": [],
   "source": []
  }
 ],
 "metadata": {
  "kernelspec": {
   "display_name": "Python 3",
   "language": "python",
   "name": "python3"
  },
  "language_info": {
   "codemirror_mode": {
    "name": "ipython",
    "version": 3
   },
   "file_extension": ".py",
   "mimetype": "text/x-python",
   "name": "python",
   "nbconvert_exporter": "python",
   "pygments_lexer": "ipython3",
   "version": "3.6.5"
  }
 },
 "nbformat": 4,
 "nbformat_minor": 2
}
