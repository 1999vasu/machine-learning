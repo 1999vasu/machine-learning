{
 "cells": [
  {
   "cell_type": "code",
   "execution_count": 1,
   "metadata": {},
   "outputs": [],
   "source": [
    "import pandas as pd\n",
    "import numpy as np\n",
    "import matplotlib.pyplot as plt"
   ]
  },
  {
   "cell_type": "code",
   "execution_count": 2,
   "metadata": {},
   "outputs": [
    {
     "name": "stdout",
     "output_type": "stream",
     "text": [
      "<class 'pandas.core.frame.DataFrame'>\n",
      "RangeIndex: 1600 entries, 0 to 1599\n",
      "Data columns (total 6 columns):\n",
      "feature_1    1600 non-null float64\n",
      "feature_2    1600 non-null float64\n",
      "feature_3    1600 non-null float64\n",
      "feature_4    1600 non-null float64\n",
      "feature_5    1600 non-null float64\n",
      "target       1600 non-null float64\n",
      "dtypes: float64(6)\n",
      "memory usage: 75.1 KB\n",
      "None\n",
      "Index(['feature_1', 'feature_2', 'feature_3', 'feature_4', 'feature_5',\n",
      "       'target'],\n",
      "      dtype='object')\n"
     ]
    }
   ],
   "source": [
    "ds = pd.read_csv(\"Train.csv\")\n",
    "print(ds.info())\n",
    "print(ds.columns)"
   ]
  },
  {
   "cell_type": "code",
   "execution_count": 3,
   "metadata": {},
   "outputs": [
    {
     "name": "stdout",
     "output_type": "stream",
     "text": [
      "<class 'numpy.ndarray'>\n",
      "[[  0.29341624  -0.94559871  -0.42110515   0.40681602   0.52566183\n",
      "  -82.15466656]\n",
      " [ -0.83608408  -0.18922804  -0.77640262  -1.05383124   0.59799685\n",
      "  -48.89796018]\n",
      " [  0.23642511   0.13283602  -0.14772298   0.69985396  -0.18736416\n",
      "   77.2703707 ]\n",
      " [  0.17531181   0.14319424  -0.58111096  -0.12210693  -1.29216807\n",
      "   -2.98858081]\n",
      " [ -1.69301097   0.54271187  -2.79872942  -0.68672304   1.24407683\n",
      "  -37.59672212]]\n"
     ]
    }
   ],
   "source": [
    "X = ds.values\n",
    "print(type(X))\n",
    "print(X[:5,:])"
   ]
  },
  {
   "cell_type": "code",
   "execution_count": 4,
   "metadata": {},
   "outputs": [
    {
     "name": "stdout",
     "output_type": "stream",
     "text": [
      "(1600,)\n",
      "(1600, 5)\n"
     ]
    }
   ],
   "source": [
    "Y = X[:,5]\n",
    "print(Y.shape)\n",
    "X = X[:,:5]\n",
    "print(X.shape)"
   ]
  },
  {
   "cell_type": "code",
   "execution_count": 5,
   "metadata": {},
   "outputs": [
    {
     "name": "stdout",
     "output_type": "stream",
     "text": [
      "(5,)\n",
      "(5,)\n"
     ]
    }
   ],
   "source": [
    "#normalizing data\n",
    "x_mean = X.mean(axis=0)\n",
    "print(x_mean.shape)\n",
    "x_std = X.std(axis=0)\n",
    "print(x_std.shape)\n",
    "X = (X-x_mean)/x_std"
   ]
  },
  {
   "cell_type": "code",
   "execution_count": 10,
   "metadata": {},
   "outputs": [],
   "source": [
    "def hypothesis(theta,x):\n",
    "    return np.dot(theta,x)\n",
    "\n",
    "\n",
    "def error(theta,x,y):\n",
    "    err=0;\n",
    "    m = x.shape[0];\n",
    "    for ix in range(m):\n",
    "        hyp = hypothesis(theta,x[ix,:])\n",
    "        err += (y[ix]-hyp)**2\n",
    "    return err/(2*x.shape[0])\n",
    "\n",
    "def gradient(theta,x,y):\n",
    "    grad = np.zeros(theta.shape[0])\n",
    "    m = x.shape[0];\n",
    "    for ix in range(m):\n",
    "        hyp = hypothesis(theta,x[ix,:])\n",
    "        grad += (y-hyp)*x[ix,:]\n",
    "    return grad/m\n",
    "\n",
    "def gradientdescent(x,y,n=0.001):\n",
    "    theta = np.zeros(x.shape[1])\n",
    "    err = []\n",
    "    k=0;\n",
    "    while(True):\n",
    "        temp = error(theta,x,y)\n",
    "        err.append(temp)\n",
    "        print(temp)\n",
    "        X_p= x[k,:]\n",
    "        X_p= X_p.reshape(1,-1)\n",
    "        print(X_p.shape)\n",
    "        theta = theta + n*gradient(theta,X_p,y[k])\n",
    "        if(len(err)>=2 and err[-2]-err[-1]<0.01):\n",
    "            break\n",
    "        k=k+1\n",
    "        if(k>=x.shape[0]):\n",
    "            k=0\n",
    "    err = err[1:]\n",
    "    return theta,err\n",
    "    "
   ]
  },
  {
   "cell_type": "code",
   "execution_count": 11,
   "metadata": {},
   "outputs": [
    {
     "name": "stdout",
     "output_type": "stream",
     "text": [
      "6128.06520702\n",
      "(1, 5)\n",
      "6123.34453795\n",
      "(1, 5)\n",
      "6119.244267\n",
      "(1, 5)\n",
      "6115.15465468\n",
      "(1, 5)\n",
      "6115.19669521\n",
      "(1, 5)\n"
     ]
    }
   ],
   "source": [
    "theta,er = gradientdescent(X,Y)\n",
    "er = np.array(er)\n",
    "# print(er)\n",
    "th = np.arange(er.shape[0])\n",
    "# print(th)"
   ]
  },
  {
   "cell_type": "code",
   "execution_count": 12,
   "metadata": {},
   "outputs": [
    {
     "data": {
      "text/plain": [
       "[<matplotlib.lines.Line2D at 0x7f6f173bb8d0>]"
      ]
     },
     "execution_count": 12,
     "metadata": {},
     "output_type": "execute_result"
    },
    {
     "data": {
      "image/png": "[encoded data removed]",
      "text/plain": [
       "<matplotlib.figure.Figure at 0x7f6f17431438>"
      ]
     },
     "metadata": {
      "needs_background": "light"
     },
     "output_type": "display_data"
    }
   ],
   "source": [
    "plt.plot(th,er)"
   ]
  },
  {
   "cell_type": "code",
   "execution_count": 13,
   "metadata": {},
   "outputs": [],
   "source": [
    "def accuracy(theta,x,y):\n",
    "    acc = 0\n",
    "    y_p = np.zeros(x.shape[0])\n",
    "    for ix in range(x.shape[0]):\n",
    "        y_p[ix] = hypothesis(theta,x[ix])\n",
    "    r_n = np.sum((y-y_p)**2)\n",
    "    r_d = np.sum((y-y.mean())**2)\n",
    "    print(r_n,r_d)\n",
    "    \n",
    "    r = 1-r_n/r_d  \n",
    "    return r;\n",
    "\n",
    "    "
   ]
  },
  {
   "cell_type": "code",
   "execution_count": 14,
   "metadata": {},
   "outputs": [
    {
     "name": "stdout",
     "output_type": "stream",
     "text": [
      "(400, 6)\n"
     ]
    }
   ],
   "source": [
    "ms = pd.read_csv(\"Test.csv\")\n",
    "ms.columns\n",
    "ms=ms.values\n",
    "print(ms.shape)"
   ]
  },
  {
   "cell_type": "code",
   "execution_count": 15,
   "metadata": {},
   "outputs": [
    {
     "name": "stdout",
     "output_type": "stream",
     "text": [
      "(400, 5) (400,)\n"
     ]
    }
   ],
   "source": [
    "x_test = ms[:,:5]\n",
    "y_test = ms[:,5]\n",
    "print(x_test.shape,y_test.shape)"
   ]
  },
  {
   "cell_type": "code",
   "execution_count": 16,
   "metadata": {},
   "outputs": [
    {
     "name": "stdout",
     "output_type": "stream",
     "text": [
      "5189280.5726 5198086.82572\n",
      "0.00169413351672\n"
     ]
    }
   ],
   "source": [
    "print(accuracy(theta,x_test,y_test))"
   ]
  },
  {
   "cell_type": "code",
   "execution_count": 17,
   "metadata": {},
   "outputs": [
    {
     "name": "stdout",
     "output_type": "stream",
     "text": [
      "19565187.176 19609646.0128\n",
      "0.00226719221925\n"
     ]
    }
   ],
   "source": [
    "print(accuracy(theta,X,Y))"
   ]
  },
  {
   "cell_type": "code",
   "execution_count": null,
   "metadata": {},
   "outputs": [],
   "source": []
  }
 ],
 "metadata": {
  "kernelspec": {
   "display_name": "Python 3",
   "language": "python",
   "name": "python3"
  },
  "language_info": {
   "codemirror_mode": {
    "name": "ipython",
    "version": 3
   },
   "file_extension": ".py",
   "mimetype": "text/x-python",
   "name": "python",
   "nbconvert_exporter": "python",
   "pygments_lexer": "ipython3",
   "version": "3.6.5"
  }
 },
 "nbformat": 4,
 "nbformat_minor": 2
}
