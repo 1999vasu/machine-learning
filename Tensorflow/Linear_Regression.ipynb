{
 "cells": [
  {
   "cell_type": "code",
   "execution_count": 1,
   "metadata": {},
   "outputs": [],
   "source": [
    "import numpy as np\n",
    "import tensorflow as tf\n",
    "from sklearn.datasets import load_boston\n",
    "from sklearn.model_selection import train_test_split"
   ]
  },
  {
   "cell_type": "code",
   "execution_count": 2,
   "metadata": {},
   "outputs": [
    {
     "name": "stdout",
     "output_type": "stream",
     "text": [
      "(506, 14) (506,)\n"
     ]
    }
   ],
   "source": [
    "boston = load_boston()\n",
    "x = np.array(boston.data)\n",
    "y = np.array(boston.target)\n",
    "bias = np.zeros((x.shape[0],1))\n",
    "x = np.concatenate((bias,x),axis =1)\n",
    "print(x.shape,y.shape)"
   ]
  },
  {
   "cell_type": "code",
   "execution_count": 3,
   "metadata": {},
   "outputs": [
    {
     "name": "stdout",
     "output_type": "stream",
     "text": [
      "(506, 1)\n"
     ]
    }
   ],
   "source": [
    "y = y.reshape(-1,1)\n",
    "print(y.shape)"
   ]
  },
  {
   "cell_type": "code",
   "execution_count": 4,
   "metadata": {},
   "outputs": [],
   "source": [
    "def normalise(data):\n",
    "    ## ( X - mean(X) ) / std(X)\n",
    "    m = np.mean(data)\n",
    "    s = np.std( data )\n",
    "    normalised_data = (data - m)/s\n",
    "    return normalised_data"
   ]
  },
  {
   "cell_type": "code",
   "execution_count": 5,
   "metadata": {},
   "outputs": [],
   "source": [
    "x = normalise(x)\n",
    "y = normalise(y)"
   ]
  },
  {
   "cell_type": "code",
   "execution_count": 6,
   "metadata": {},
   "outputs": [
    {
     "name": "stdout",
     "output_type": "stream",
     "text": [
      "(404, 14) (102, 14) (404, 1) (102, 1)\n"
     ]
    }
   ],
   "source": [
    "xtrain,xtest,ytrain,ytest = train_test_split(x,y,test_size = 0.2)\n",
    "print(xtrain.shape,xtest.shape,ytrain.shape,ytest.shape)"
   ]
  },
  {
   "cell_type": "markdown",
   "metadata": {},
   "source": [
    "# Create Model"
   ]
  },
  {
   "cell_type": "code",
   "execution_count": 7,
   "metadata": {},
   "outputs": [],
   "source": [
    "n_samples = xtrain.shape[0]\n",
    "n_features = xtrain.shape[1]\n",
    "epoch = 20"
   ]
  },
  {
   "cell_type": "code",
   "execution_count": 8,
   "metadata": {},
   "outputs": [],
   "source": [
    "X  = tf.placeholder(dtype = tf.float32, shape = [None,n_features])\n",
    "Y = tf.placeholder(dtype= tf.float32,shape = [None,1])\n",
    "\n",
    "W = tf.Variable(tf.random_normal(shape = (n_features,1)))\n",
    "\n",
    "y_pred = tf.matmul(X,W)\n",
    "\n",
    "cost = tf.reduce_mean(tf.square(y_pred-Y))\n"
   ]
  },
  {
   "cell_type": "code",
   "execution_count": 9,
   "metadata": {},
   "outputs": [],
   "source": [
    "opt = tf.train.GradientDescentOptimizer(learning_rate=0.01).minimize(cost)"
   ]
  },
  {
   "cell_type": "code",
   "execution_count": 10,
   "metadata": {},
   "outputs": [
    {
     "name": "stdout",
     "output_type": "stream",
     "text": [
      "Epoch 1\n",
      "\n",
      "Training loss is 6.2907 and Testing loss is 7.5058\n",
      "---------\n",
      "Epoch 2\n",
      "\n",
      "Training loss is 4.5537 and Testing loss is 5.7103\n",
      "---------\n",
      "Epoch 3\n",
      "\n",
      "Training loss is 3.5574 and Testing loss is 4.6449\n",
      "---------\n",
      "Epoch 4\n",
      "\n",
      "Training loss is 2.9723 and Testing loss is 3.9928\n",
      "---------\n",
      "Epoch 5\n",
      "\n",
      "Training loss is 2.6162 and Testing loss is 3.5768\n",
      "---------\n",
      "Epoch 6\n",
      "\n",
      "Training loss is 2.3881 and Testing loss is 3.2974\n",
      "---------\n",
      "Epoch 7\n",
      "\n",
      "Training loss is 2.2323 and Testing loss is 3.0985\n",
      "---------\n",
      "Epoch 8\n",
      "\n",
      "Training loss is 2.1178 and Testing loss is 2.9482\n",
      "---------\n",
      "Epoch 9\n",
      "\n",
      "Training loss is 2.0276 and Testing loss is 2.8282\n",
      "---------\n",
      "Epoch 10\n",
      "\n",
      "Training loss is 1.9520 and Testing loss is 2.7277\n",
      "---------\n",
      "Epoch 11\n",
      "\n",
      "Training loss is 1.8857 and Testing loss is 2.6406\n",
      "---------\n",
      "Epoch 12\n",
      "\n",
      "Training loss is 1.8257 and Testing loss is 2.5628\n",
      "---------\n",
      "Epoch 13\n",
      "\n",
      "Training loss is 1.7702 and Testing loss is 2.4922\n",
      "---------\n",
      "Epoch 14\n",
      "\n",
      "Training loss is 1.7184 and Testing loss is 2.4272\n",
      "---------\n",
      "Epoch 15\n",
      "\n",
      "Training loss is 1.6695 and Testing loss is 2.3667\n",
      "---------\n",
      "Epoch 16\n",
      "\n",
      "Training loss is 1.6232 and Testing loss is 2.3100\n",
      "---------\n",
      "Epoch 17\n",
      "\n",
      "Training loss is 1.5793 and Testing loss is 2.2568\n",
      "---------\n",
      "Epoch 18\n",
      "\n",
      "Training loss is 1.5375 and Testing loss is 2.2065\n",
      "---------\n",
      "Epoch 19\n",
      "\n",
      "Training loss is 1.4977 and Testing loss is 2.1589\n",
      "---------\n",
      "Epoch 20\n",
      "\n",
      "Training loss is 1.4599 and Testing loss is 2.1139\n",
      "---------\n"
     ]
    }
   ],
   "source": [
    "with tf.Session() as sess:\n",
    "    ## Imp step\n",
    "    sess.run( tf.global_variables_initializer() )\n",
    "    \n",
    "    for epoch in range(epoch):\n",
    "        \n",
    "        sess.run( opt, feed_dict = {\n",
    "            X: xtrain,\n",
    "            Y: ytrain\n",
    "        } )\n",
    "        \n",
    "        train_loss = sess.run( cost, feed_dict = {\n",
    "            X: xtrain,\n",
    "            Y: ytrain\n",
    "        } )\n",
    "        \n",
    "        test_loss = sess.run( cost, feed_dict = {\n",
    "            X: xtest,\n",
    "            Y: ytest\n",
    "        } )\n",
    "        \n",
    "        print ( \"Epoch {}\\n\".format(epoch + 1) )\n",
    "        print (\"Training loss is {:.04f} and Testing loss is {:.04f}\".format( train_loss, test_loss ))\n",
    "        print (\"---------\")"
   ]
  },
  {
   "cell_type": "code",
   "execution_count": null,
   "metadata": {},
   "outputs": [],
   "source": []
  }
 ],
 "metadata": {
  "kernelspec": {
   "display_name": "Python 3",
   "language": "python",
   "name": "python3"
  },
  "language_info": {
   "codemirror_mode": {
    "name": "ipython",
    "version": 3
   },
   "file_extension": ".py",
   "mimetype": "text/x-python",
   "name": "python",
   "nbconvert_exporter": "python",
   "pygments_lexer": "ipython3",
   "version": "3.6.7"
  }
 },
 "nbformat": 4,
 "nbformat_minor": 2
}
