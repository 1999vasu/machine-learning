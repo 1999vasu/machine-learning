{
 "cells": [
  {
   "cell_type": "code",
   "execution_count": 1,
   "metadata": {},
   "outputs": [
    {
     "name": "stderr",
     "output_type": "stream",
     "text": [
      "Using TensorFlow backend.\n"
     ]
    }
   ],
   "source": [
    "import numpy as np\n",
    "import cv2 \n",
    "import pandas as pd\n",
    "import matplotlib.pyplot as plt\n",
    "from keras.models import Sequential\n",
    "from keras.layers import Input,Convolution2D,MaxPooling2D,Flatten,Dense,Dropout\n",
    "from keras.utils import np_utils\n",
    "import tensorflow\n"
   ]
  },
  {
   "cell_type": "code",
   "execution_count": 18,
   "metadata": {},
   "outputs": [],
   "source": [
    "data = pd.read_csv(\"../fashion_mnist_assignment/fashion-mnist_test.csv\")"
   ]
  },
  {
   "cell_type": "code",
   "execution_count": 19,
   "metadata": {},
   "outputs": [
    {
     "name": "stdout",
     "output_type": "stream",
     "text": [
      "(10000, 785) <class 'pandas.core.frame.DataFrame'>\n"
     ]
    }
   ],
   "source": [
    "print(data.shape,type(data))"
   ]
  },
  {
   "cell_type": "code",
   "execution_count": 20,
   "metadata": {},
   "outputs": [
    {
     "name": "stdout",
     "output_type": "stream",
     "text": [
      "<class 'numpy.ndarray'>\n"
     ]
    }
   ],
   "source": [
    "X = data.values\n",
    "print(type(X))"
   ]
  },
  {
   "cell_type": "code",
   "execution_count": 21,
   "metadata": {},
   "outputs": [
    {
     "name": "stdout",
     "output_type": "stream",
     "text": [
      "(10000,) (10000, 784)\n"
     ]
    }
   ],
   "source": [
    "Y = X[:,0]\n",
    "X = X[:,1:]\n",
    "X = X/255.0\n",
    "print(Y.shape,X.shape)"
   ]
  },
  {
   "cell_type": "code",
   "execution_count": 22,
   "metadata": {},
   "outputs": [
    {
     "name": "stdout",
     "output_type": "stream",
     "text": [
      "(10000, 10) (10000, 28, 28, 1)\n"
     ]
    }
   ],
   "source": [
    "X = X.reshape((-1,28,28,1))\n",
    "Y = np_utils.to_categorical(Y)\n",
    "print(Y.shape,X.shape)"
   ]
  },
  {
   "cell_type": "markdown",
   "metadata": {},
   "source": [
    "# CNN Model"
   ]
  },
  {
   "cell_type": "code",
   "execution_count": 23,
   "metadata": {},
   "outputs": [],
   "source": [
    "model = Sequential()\n",
    "model.add(Convolution2D(32,(3,3),activation = 'relu',input_shape = (28,28,1)))\n",
    "model.add(Convolution2D(64,(3,3),activation = 'relu'))\n",
    "model.add(Dropout(0.25))\n",
    "model.add(MaxPooling2D(2,2))\n",
    "model.add(Convolution2D(32,(5,5),activation = 'relu'))\n",
    "model.add(Convolution2D(8,(5,5),activation = 'relu'))\n",
    "model.add(Flatten())\n",
    "model.add(Dense(10,activation = 'softmax'))"
   ]
  },
  {
   "cell_type": "code",
   "execution_count": 24,
   "metadata": {},
   "outputs": [
    {
     "name": "stdout",
     "output_type": "stream",
     "text": [
      "_________________________________________________________________\n",
      "Layer (type)                 Output Shape              Param #   \n",
      "=================================================================\n",
      "conv2d_9 (Conv2D)            (None, 26, 26, 32)        320       \n",
      "_________________________________________________________________\n",
      "conv2d_10 (Conv2D)           (None, 24, 24, 64)        18496     \n",
      "_________________________________________________________________\n",
      "dropout_3 (Dropout)          (None, 24, 24, 64)        0         \n",
      "_________________________________________________________________\n",
      "max_pooling2d_3 (MaxPooling2 (None, 12, 12, 64)        0         \n",
      "_________________________________________________________________\n",
      "conv2d_11 (Conv2D)           (None, 8, 8, 32)          51232     \n",
      "_________________________________________________________________\n",
      "conv2d_12 (Conv2D)           (None, 4, 4, 8)           6408      \n",
      "_________________________________________________________________\n",
      "flatten_3 (Flatten)          (None, 128)               0         \n",
      "_________________________________________________________________\n",
      "dense_3 (Dense)              (None, 10)                1290      \n",
      "=================================================================\n",
      "Total params: 77,746\n",
      "Trainable params: 77,746\n",
      "Non-trainable params: 0\n",
      "_________________________________________________________________\n"
     ]
    }
   ],
   "source": [
    "model.summary()"
   ]
  },
  {
   "cell_type": "code",
   "execution_count": 25,
   "metadata": {},
   "outputs": [],
   "source": [
    "model.compile(loss = 'categorical_crossentropy',optimizer='adam', metrics = [\"accuracy\"])\n",
    "model.fit?"
   ]
  },
  {
   "cell_type": "code",
   "execution_count": 26,
   "metadata": {},
   "outputs": [
    {
     "name": "stdout",
     "output_type": "stream",
     "text": [
      "Train on 8000 samples, validate on 2000 samples\n",
      "Epoch 1/20\n",
      "8000/8000 [==============================] - 19s 2ms/step - loss: 0.9304 - acc: 0.6739 - val_loss: 0.6414 - val_acc: 0.7695\n",
      "Epoch 2/20\n",
      "8000/8000 [==============================] - 18s 2ms/step - loss: 0.5634 - acc: 0.7947 - val_loss: 0.5225 - val_acc: 0.8115\n",
      "Epoch 3/20\n",
      "8000/8000 [==============================] - 19s 2ms/step - loss: 0.4678 - acc: 0.8320 - val_loss: 0.4330 - val_acc: 0.8475\n",
      "Epoch 4/20\n",
      "8000/8000 [==============================] - 21s 3ms/step - loss: 0.4062 - acc: 0.8582 - val_loss: 0.4313 - val_acc: 0.8505\n",
      "Epoch 5/20\n",
      "8000/8000 [==============================] - 22s 3ms/step - loss: 0.3636 - acc: 0.8719 - val_loss: 0.3929 - val_acc: 0.8580\n",
      "Epoch 6/20\n",
      "8000/8000 [==============================] - 22s 3ms/step - loss: 0.3303 - acc: 0.8848 - val_loss: 0.3663 - val_acc: 0.8750\n",
      "Epoch 7/20\n",
      "8000/8000 [==============================] - 22s 3ms/step - loss: 0.3000 - acc: 0.8910 - val_loss: 0.3534 - val_acc: 0.8725\n",
      "Epoch 8/20\n",
      "8000/8000 [==============================] - 22s 3ms/step - loss: 0.2783 - acc: 0.9000 - val_loss: 0.3419 - val_acc: 0.8860\n",
      "Epoch 9/20\n",
      "8000/8000 [==============================] - 22s 3ms/step - loss: 0.2547 - acc: 0.9066 - val_loss: 0.3528 - val_acc: 0.8710\n",
      "Epoch 10/20\n",
      "8000/8000 [==============================] - 23s 3ms/step - loss: 0.2423 - acc: 0.9140 - val_loss: 0.3509 - val_acc: 0.8790\n",
      "Epoch 11/20\n",
      "8000/8000 [==============================] - 22s 3ms/step - loss: 0.2275 - acc: 0.9199 - val_loss: 0.3279 - val_acc: 0.8920\n",
      "Epoch 12/20\n",
      "8000/8000 [==============================] - 23s 3ms/step - loss: 0.1983 - acc: 0.9290 - val_loss: 0.3292 - val_acc: 0.8910\n",
      "Epoch 13/20\n",
      "8000/8000 [==============================] - 22s 3ms/step - loss: 0.1855 - acc: 0.9337 - val_loss: 0.3302 - val_acc: 0.8835\n",
      "Epoch 14/20\n",
      "8000/8000 [==============================] - 23s 3ms/step - loss: 0.1740 - acc: 0.9363 - val_loss: 0.3495 - val_acc: 0.8785\n",
      "Epoch 15/20\n",
      "8000/8000 [==============================] - 21s 3ms/step - loss: 0.1527 - acc: 0.9441 - val_loss: 0.3402 - val_acc: 0.8830\n",
      "Epoch 16/20\n",
      "8000/8000 [==============================] - 18s 2ms/step - loss: 0.1460 - acc: 0.9479 - val_loss: 0.3540 - val_acc: 0.8795\n",
      "Epoch 17/20\n",
      "8000/8000 [==============================] - 18s 2ms/step - loss: 0.1324 - acc: 0.9526 - val_loss: 0.3641 - val_acc: 0.8765\n",
      "Epoch 18/20\n",
      "8000/8000 [==============================] - 18s 2ms/step - loss: 0.1123 - acc: 0.9577 - val_loss: 0.3857 - val_acc: 0.8880\n",
      "Epoch 19/20\n",
      "8000/8000 [==============================] - 18s 2ms/step - loss: 0.1057 - acc: 0.9624 - val_loss: 0.3851 - val_acc: 0.8780\n",
      "Epoch 20/20\n",
      "8000/8000 [==============================] - 18s 2ms/step - loss: 0.1027 - acc: 0.9632 - val_loss: 0.3835 - val_acc: 0.8800\n"
     ]
    }
   ],
   "source": [
    "hist = model.fit(X,Y,shuffle= True,epochs=20,validation_split = 0.2)"
   ]
  },
  {
   "cell_type": "code",
   "execution_count": 27,
   "metadata": {},
   "outputs": [
    {
     "data": {
      "image/png": "[encoded data removed]",
      "text/plain": [
       "<matplotlib.figure.Figure at 0x7f2a0c108a90>"
      ]
     },
     "metadata": {
      "needs_background": "light"
     },
     "output_type": "display_data"
    }
   ],
   "source": [
    "plt.figure()\n",
    "plt.plot(hist.history['loss'],'g')\n",
    "plt.plot(hist.history['val_loss'],'b')\n",
    "\n",
    "plt.plot(hist.history['acc'],'r')\n",
    "plt.plot(hist.history['val_acc'],'y')\n",
    "plt.show()\n"
   ]
  },
  {
   "cell_type": "code",
   "execution_count": null,
   "metadata": {},
   "outputs": [],
   "source": []
  }
 ],
 "metadata": {
  "kernelspec": {
   "display_name": "Python 3",
   "language": "python",
   "name": "python3"
  },
  "language_info": {
   "codemirror_mode": {
    "name": "ipython",
    "version": 3
   },
   "file_extension": ".py",
   "mimetype": "text/x-python",
   "name": "python",
   "nbconvert_exporter": "python",
   "pygments_lexer": "ipython3",
   "version": "3.6.7"
  }
 },
 "nbformat": 4,
 "nbformat_minor": 2
}
