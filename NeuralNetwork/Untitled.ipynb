{
 "cells": [
  {
   "cell_type": "code",
   "execution_count": 1,
   "metadata": {},
   "outputs": [],
   "source": [
    "import numpy as np"
   ]
  },
  {
   "cell_type": "code",
   "execution_count": 10,
   "metadata": {},
   "outputs": [],
   "source": [
    "input_features = 2\n",
    "output_features = 2\n",
    "layers = [5,4]"
   ]
  },
  {
   "cell_type": "code",
   "execution_count": 11,
   "metadata": {},
   "outputs": [],
   "source": [
    "class NeuralNetwork:\n",
    "    \n",
    "    def __init__(self,n_features,n_output_classes,layers):\n",
    "        np.random.seed(5)\n",
    "        \n",
    "        model = {}\n",
    "        \n",
    "#         layer1\n",
    "        model['w1'] = np.random.randn(n_features,layers[0])\n",
    "        model['b1'] = np.zeros((1,layers[0]))\n",
    "        \n",
    "#         layer2\n",
    "        model['w2'] = np.random.randn(layers[0],layers[1])\n",
    "        model['b2'] = np.zeros((1,layers[1]))\n",
    "        \n",
    "#         outputlayer\n",
    "        model['w3'] = np.random.randn(layers[1],n_output_classes)\n",
    "        model['b3'] = np.zeros((1,n_output_classes))\n",
    "        \n",
    "        self.model = model  \n",
    "        \n",
    "    def softmax(self,x):\n",
    "        return (np.exp(x))/(1+np.sum(np.exp(x),axis=1,keepdims=True))\n",
    "        \n",
    "    def forward_prop(self,x):\n",
    "        \n",
    "        w1= self.model['w1']\n",
    "        w2 = self.model['w2']\n",
    "        w3 = self.model['w3']\n",
    "        \n",
    "        b1 = self.model['b1']\n",
    "        b2 = self.model['b2']\n",
    "        b3 = self.model['b3']\n",
    "        \n",
    "        softmax = self.softmax()\n",
    "        \n",
    "        \n",
    "        z1 = np.dot(x,w1) + b1\n",
    "        a1 = softmax(z1)\n",
    "        \n",
    "        z2 = np.dot(a1,w2) + b2\n",
    "        a2 = softmax(z2)\n",
    "        \n",
    "        z3 = np.dot(a2,w3) + b3\n",
    "        output = softmax(z3)\n",
    "        "
   ]
  },
  {
   "cell_type": "code",
   "execution_count": 5,
   "metadata": {},
   "outputs": [],
   "source": [
    "b= np.random.random()"
   ]
  },
  {
   "cell_type": "code",
   "execution_count": 6,
   "metadata": {},
   "outputs": [
    {
     "name": "stdout",
     "output_type": "stream",
     "text": [
      "0.3771119903057293\n"
     ]
    }
   ],
   "source": [
    "print(b)"
   ]
  },
  {
   "cell_type": "code",
   "execution_count": null,
   "metadata": {},
   "outputs": [],
   "source": []
  }
 ],
 "metadata": {
  "kernelspec": {
   "display_name": "Python 3",
   "language": "python",
   "name": "python3"
  },
  "language_info": {
   "codemirror_mode": {
    "name": "ipython",
    "version": 3
   },
   "file_extension": ".py",
   "mimetype": "text/x-python",
   "name": "python",
   "nbconvert_exporter": "python",
   "pygments_lexer": "ipython3",
   "version": "3.6.7"
  }
 },
 "nbformat": 4,
 "nbformat_minor": 2
}
